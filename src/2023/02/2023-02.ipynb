{
 "cells": [
  {
   "cell_type": "code",
   "execution_count": 9,
   "metadata": {
    "dotnet_interactive": {
     "language": "csharp"
    },
    "polyglot_notebook": {
     "kernelName": "csharp"
    },
    "vscode": {
     "languageId": "polyglot-notebook"
    }
   },
   "outputs": [],
   "source": [
    "using System.IO;\n",
    "using System.Text.RegularExpressions;"
   ]
  },
  {
   "cell_type": "code",
   "execution_count": 12,
   "metadata": {
    "dotnet_interactive": {
     "language": "csharp"
    },
    "polyglot_notebook": {
     "kernelName": "csharp"
    },
    "vscode": {
     "languageId": "polyglot-notebook"
    }
   },
   "outputs": [],
   "source": [
    "// Parse game into structured data\n",
    "\n",
    "public int ExtractInteger(string s)\n",
    "{\n",
    "    return int.Parse(Regex.Replace(s, \"[^0-9]\", \"\"));\n",
    "}\n",
    "\n",
    "\n",
    "public class Game \n",
    "{\n",
    "    public int Id { get; set; }\n",
    "    public List<Round> Rounds { get; set; }\n",
    "}\n",
    "\n",
    "public class Round \n",
    "{\n",
    "    public int Red { get; set; } = 0;\n",
    "    public int Green { get; set; } = 0;\n",
    "    public int Blue { get; set; } = 0;\n",
    "}\n",
    "\n",
    "\n",
    "public Game ParseGame(string singleGameData)\n",
    "{\n",
    "    var parts = singleGameData.Split(\":\");\n",
    "\n",
    "    return new Game\n",
    "    {\n",
    "        Id = ExtractInteger(parts[0]),\n",
    "        Rounds = ParseRounds(parts[1])\n",
    "    };\n",
    "\n",
    "\n",
    "}\n",
    "\n",
    "public List<Round> ParseRounds(string singleGameRoundData)\n",
    "{\n",
    "    var rounds = singleGameRoundData.Split(\";\");\n",
    "\n",
    "    var response = new List<Round>();\n",
    "\n",
    "    foreach (var round in rounds)\n",
    "    {\n",
    "        var r = new Round();\n",
    "        var pulls = round.Split(\",\");    \n",
    "        foreach (var pull in pulls)\n",
    "        {\n",
    "            if (pull.Contains(\"red\")) r.Red = ExtractInteger(pull);\n",
    "            if (pull.Contains(\"green\")) r.Green = ExtractInteger(pull);\n",
    "            if (pull.Contains(\"blue\")) r.Blue = ExtractInteger(pull);\n",
    "        }\n",
    "\n",
    "        response.Add(r);\n",
    "    }\n",
    "\n",
    "    return response;\n",
    "}"
   ]
  },
  {
   "cell_type": "code",
   "execution_count": 18,
   "metadata": {
    "dotnet_interactive": {
     "language": "csharp"
    },
    "polyglot_notebook": {
     "kernelName": "csharp"
    },
    "vscode": {
     "languageId": "polyglot-notebook"
    }
   },
   "outputs": [
    {
     "data": {
      "text/html": [
       "<div class=\"dni-plaintext\"><pre>2913</pre></div><style>\r\n",
       ".dni-code-hint {\r\n",
       "    font-style: italic;\r\n",
       "    overflow: hidden;\r\n",
       "    white-space: nowrap;\r\n",
       "}\r\n",
       ".dni-treeview {\r\n",
       "    white-space: nowrap;\r\n",
       "}\r\n",
       ".dni-treeview td {\r\n",
       "    vertical-align: top;\r\n",
       "    text-align: start;\r\n",
       "}\r\n",
       "details.dni-treeview {\r\n",
       "    padding-left: 1em;\r\n",
       "}\r\n",
       "table td {\r\n",
       "    text-align: start;\r\n",
       "}\r\n",
       "table tr { \r\n",
       "    vertical-align: top; \r\n",
       "    margin: 0em 0px;\r\n",
       "}\r\n",
       "table tr td pre \r\n",
       "{ \r\n",
       "    vertical-align: top !important; \r\n",
       "    margin: 0em 0px !important;\r\n",
       "} \r\n",
       "table th {\r\n",
       "    text-align: start;\r\n",
       "}\r\n",
       "</style>"
      ]
     },
     "metadata": {},
     "output_type": "display_data"
    }
   ],
   "source": [
    "var input = File.ReadAllLines(\"./input.txt\");\n",
    "\n",
    "var maxRed = 12;\n",
    "var maxGreen = 13;\n",
    "var maxBlue = 14;\n",
    "\n",
    "var possibleGames = input\n",
    "    .Select(ParseGame)\n",
    "    .Where(game => game.Rounds.All(r => r.Red <= maxRed && r.Green <= maxGreen && r.Blue <= maxBlue));\n",
    "\n",
    "possibleGames.Sum(g => g.Id)\n"
   ]
  },
  {
   "cell_type": "code",
   "execution_count": 22,
   "metadata": {
    "dotnet_interactive": {
     "language": "csharp"
    },
    "polyglot_notebook": {
     "kernelName": "csharp"
    },
    "vscode": {
     "languageId": "polyglot-notebook"
    }
   },
   "outputs": [
    {
     "data": {
      "text/html": [
       "<div class=\"dni-plaintext\"><pre>55593</pre></div><style>\r\n",
       ".dni-code-hint {\r\n",
       "    font-style: italic;\r\n",
       "    overflow: hidden;\r\n",
       "    white-space: nowrap;\r\n",
       "}\r\n",
       ".dni-treeview {\r\n",
       "    white-space: nowrap;\r\n",
       "}\r\n",
       ".dni-treeview td {\r\n",
       "    vertical-align: top;\r\n",
       "    text-align: start;\r\n",
       "}\r\n",
       "details.dni-treeview {\r\n",
       "    padding-left: 1em;\r\n",
       "}\r\n",
       "table td {\r\n",
       "    text-align: start;\r\n",
       "}\r\n",
       "table tr { \r\n",
       "    vertical-align: top; \r\n",
       "    margin: 0em 0px;\r\n",
       "}\r\n",
       "table tr td pre \r\n",
       "{ \r\n",
       "    vertical-align: top !important; \r\n",
       "    margin: 0em 0px !important;\r\n",
       "} \r\n",
       "table th {\r\n",
       "    text-align: start;\r\n",
       "}\r\n",
       "</style>"
      ]
     },
     "metadata": {},
     "output_type": "display_data"
    }
   ],
   "source": [
    "var input = File.ReadAllLines(\"./input.txt\");\n",
    "\n",
    "var games = input\n",
    "    .Select(ParseGame)\n",
    "    .Select(game => \n",
    "    {\n",
    "        return game.Rounds.Select(r => r.Red).Max() * game.Rounds.Select(r => r.Green).Max() * game.Rounds.Select(r => r.Blue).Max();\n",
    "    });\n",
    "\n",
    "games.Sum()\n"
   ]
  }
 ],
 "metadata": {
  "language_info": {
   "name": "python"
  }
 },
 "nbformat": 4,
 "nbformat_minor": 2
}
