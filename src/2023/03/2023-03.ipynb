{
 "cells": [
  {
   "cell_type": "code",
   "execution_count": 25,
   "metadata": {
    "dotnet_interactive": {
     "language": "csharp"
    },
    "polyglot_notebook": {
     "kernelName": "csharp"
    },
    "vscode": {
     "languageId": "polyglot-notebook"
    }
   },
   "outputs": [],
   "source": [
    "using System.IO;"
   ]
  },
  {
   "cell_type": "code",
   "execution_count": 26,
   "metadata": {
    "dotnet_interactive": {
     "language": "csharp"
    },
    "polyglot_notebook": {
     "kernelName": "csharp"
    },
    "vscode": {
     "languageId": "polyglot-notebook"
    }
   },
   "outputs": [],
   "source": [
    "public struct Point\n",
    "{\n",
    "    public Point(int _x, int _y)\n",
    "    {\n",
    "        x = _x;\n",
    "        y = _y;\n",
    "    }\n",
    "\n",
    "    public int x;\n",
    "    public int y;\n",
    "}\n",
    "\n",
    "public struct Rect\n",
    "{\n",
    "    public Point UpperLeft;\n",
    "    public Point LowerRight;\n",
    "}\n",
    "\n",
    "public class Board\n",
    "{\n",
    "    public List<(int number, Rect rect)> Numbers = new List<(int number, Rect rect)>();\n",
    "    public List<Rect> Symbols = new List<Rect>();\n",
    "}\n",
    "\n",
    "public Board ParseBoard(string[] lines)\n",
    "{\n",
    "    var board = new Board();\n",
    "\n",
    "    for (var y = 0; y < lines.Count(); y++)\n",
    "    {\n",
    "        var characters = lines[y].ToCharArray();\n",
    "        var number = \"\";\n",
    "        var rect = new Rect();\n",
    "        for (var x = 0; x < characters.Count(); x++)\n",
    "        {\n",
    "            if (Char.IsDigit(characters[x]))\n",
    "            {\n",
    "                if (number == \"\") // we're at the beginning of a number\n",
    "                {\n",
    "                    rect.UpperLeft = new Point(x-1, y-1);\n",
    "                }\n",
    "\n",
    "                number += characters[x];\n",
    "\n",
    "            }\n",
    "            \n",
    "            if (characters[x] == '.' || x+1 == characters.Count())\n",
    "            {\n",
    "                if (number != \"\") // we've hit the end of a number\n",
    "                {\n",
    "                    rect.LowerRight = new Point(x, y+1);\n",
    "                    \n",
    "                    board.Numbers.Add((int.Parse(number), rect));\n",
    "                    number = \"\";\n",
    "                    rect = new Rect();\n",
    "                }\n",
    "\n",
    "                continue;\n",
    "            }\n",
    "\n",
    "            if (characters[x] != '.' && !Char.IsDigit(characters[x])) \n",
    "            {\n",
    "                if (number != \"\") // we've hit the end of a number\n",
    "                {\n",
    "                    rect.LowerRight = new Point(x, y+1);\n",
    "                    \n",
    "                    board.Numbers.Add((int.Parse(number), rect));\n",
    "                    number = \"\";\n",
    "                    rect = new Rect();\n",
    "                }\n",
    "                \n",
    "                var point = new Point(x, y);\n",
    "                board.Symbols.Add(new Rect()\n",
    "                {\n",
    "                    UpperLeft = point,\n",
    "                    LowerRight = point\n",
    "                });\n",
    "\n",
    "                continue;\n",
    "            }\n",
    "        }\n",
    "    }\n",
    "\n",
    "    return board;\n",
    "}\n",
    "\n",
    "public bool RectsOverlap (Rect rect1, Rect rect2)\n",
    "{\n",
    "    if (rect1.LowerRight.x < rect2.UpperLeft.x || rect2.LowerRight.x < rect1.UpperLeft.x)\n",
    "    {\n",
    "        return false;\n",
    "    }\n",
    "\n",
    "    if (rect1.LowerRight.y < rect2.UpperLeft.y || rect2.LowerRight.y < rect1.UpperLeft.y)\n",
    "    {\n",
    "        return false;\n",
    "    }\n",
    "\n",
    "    return true;\n",
    "}"
   ]
  },
  {
   "cell_type": "code",
   "execution_count": 27,
   "metadata": {
    "dotnet_interactive": {
     "language": "csharp"
    },
    "polyglot_notebook": {
     "kernelName": "csharp"
    },
    "vscode": {
     "languageId": "polyglot-notebook"
    }
   },
   "outputs": [
    {
     "data": {
      "text/html": [
       "<div class=\"dni-plaintext\"><pre>530495</pre></div><style>\r\n",
       ".dni-code-hint {\r\n",
       "    font-style: italic;\r\n",
       "    overflow: hidden;\r\n",
       "    white-space: nowrap;\r\n",
       "}\r\n",
       ".dni-treeview {\r\n",
       "    white-space: nowrap;\r\n",
       "}\r\n",
       ".dni-treeview td {\r\n",
       "    vertical-align: top;\r\n",
       "    text-align: start;\r\n",
       "}\r\n",
       "details.dni-treeview {\r\n",
       "    padding-left: 1em;\r\n",
       "}\r\n",
       "table td {\r\n",
       "    text-align: start;\r\n",
       "}\r\n",
       "table tr { \r\n",
       "    vertical-align: top; \r\n",
       "    margin: 0em 0px;\r\n",
       "}\r\n",
       "table tr td pre \r\n",
       "{ \r\n",
       "    vertical-align: top !important; \r\n",
       "    margin: 0em 0px !important;\r\n",
       "} \r\n",
       "table th {\r\n",
       "    text-align: start;\r\n",
       "}\r\n",
       "</style>"
      ]
     },
     "metadata": {},
     "output_type": "display_data"
    }
   ],
   "source": [
    "// Part One\n",
    "\n",
    "var input = File.ReadAllLines(\"./input.txt\");\n",
    "\n",
    "var board = ParseBoard(input);\n",
    "\n",
    "board\n",
    "    .Numbers\n",
    "    .Where(n => \n",
    "    {\n",
    "        foreach (var symbol in board.Symbols)\n",
    "        {\n",
    "            if (RectsOverlap(n.rect, symbol))\n",
    "                return true;\n",
    "        }\n",
    "\n",
    "        return false;\n",
    "    })\n",
    "    .Select(n => n.number)\n",
    "    .Sum()"
   ]
  },
  {
   "cell_type": "code",
   "execution_count": 28,
   "metadata": {
    "dotnet_interactive": {
     "language": "csharp"
    },
    "polyglot_notebook": {
     "kernelName": "csharp"
    },
    "vscode": {
     "languageId": "polyglot-notebook"
    }
   },
   "outputs": [
    {
     "data": {
      "text/html": [
       "<div class=\"dni-plaintext\"><pre>80253814</pre></div><style>\r\n",
       ".dni-code-hint {\r\n",
       "    font-style: italic;\r\n",
       "    overflow: hidden;\r\n",
       "    white-space: nowrap;\r\n",
       "}\r\n",
       ".dni-treeview {\r\n",
       "    white-space: nowrap;\r\n",
       "}\r\n",
       ".dni-treeview td {\r\n",
       "    vertical-align: top;\r\n",
       "    text-align: start;\r\n",
       "}\r\n",
       "details.dni-treeview {\r\n",
       "    padding-left: 1em;\r\n",
       "}\r\n",
       "table td {\r\n",
       "    text-align: start;\r\n",
       "}\r\n",
       "table tr { \r\n",
       "    vertical-align: top; \r\n",
       "    margin: 0em 0px;\r\n",
       "}\r\n",
       "table tr td pre \r\n",
       "{ \r\n",
       "    vertical-align: top !important; \r\n",
       "    margin: 0em 0px !important;\r\n",
       "} \r\n",
       "table th {\r\n",
       "    text-align: start;\r\n",
       "}\r\n",
       "</style>"
      ]
     },
     "metadata": {},
     "output_type": "display_data"
    }
   ],
   "source": [
    "// Part Two\n",
    "\n",
    "board\n",
    "    .Symbols\n",
    "    .Select(s => \n",
    "    {\n",
    "        var nums = new List<int>();\n",
    "\n",
    "        foreach (var number in board.Numbers)\n",
    "        {\n",
    "            if (RectsOverlap(number.rect, s))\n",
    "                nums.Add(number.number);\n",
    "        }\n",
    "\n",
    "        return nums;\n",
    "    })\n",
    "    .Where(nums => nums.Count() == 2)\n",
    "    .Select(nums => nums.Aggregate((a,b) => a*b))\n",
    "    .Sum()"
   ]
  }
 ],
 "metadata": {
  "language_info": {
   "name": "python"
  }
 },
 "nbformat": 4,
 "nbformat_minor": 2
}
