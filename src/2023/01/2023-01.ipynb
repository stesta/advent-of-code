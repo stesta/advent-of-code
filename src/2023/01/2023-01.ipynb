{
 "cells": [
  {
   "cell_type": "code",
   "execution_count": 1,
   "metadata": {
    "dotnet_interactive": {
     "language": "csharp"
    },
    "polyglot_notebook": {
     "kernelName": "csharp"
    },
    "vscode": {
     "languageId": "polyglot-notebook"
    }
   },
   "outputs": [],
   "source": [
    "using System.Collections.Generic;\n",
    "using System.IO;\n",
    "using System.Text.RegularExpressions;"
   ]
  },
  {
   "cell_type": "code",
   "execution_count": 2,
   "metadata": {
    "dotnet_interactive": {
     "language": "csharp"
    },
    "polyglot_notebook": {
     "kernelName": "csharp"
    },
    "vscode": {
     "languageId": "polyglot-notebook"
    }
   },
   "outputs": [],
   "source": [
    "public int CalibrationSum(string[] data)\n",
    "{    \n",
    "    return data\n",
    "        .Select(line => Regex.Replace(line, \"[^0-9]\", \"\"))          // remove all non-digits\n",
    "        .Select(line => $\"{line.First()}{line.Last()}\")             // get the first/last numbers\n",
    "        .Sum(int.Parse);                                            // parse and sum\n",
    "}"
   ]
  },
  {
   "cell_type": "code",
   "execution_count": 3,
   "metadata": {
    "dotnet_interactive": {
     "language": "csharp"
    },
    "polyglot_notebook": {
     "kernelName": "csharp"
    },
    "vscode": {
     "languageId": "polyglot-notebook"
    }
   },
   "outputs": [
    {
     "data": {
      "text/html": [
       "<div class=\"dni-plaintext\"><pre>55208</pre></div><style>\r\n",
       ".dni-code-hint {\r\n",
       "    font-style: italic;\r\n",
       "    overflow: hidden;\r\n",
       "    white-space: nowrap;\r\n",
       "}\r\n",
       ".dni-treeview {\r\n",
       "    white-space: nowrap;\r\n",
       "}\r\n",
       ".dni-treeview td {\r\n",
       "    vertical-align: top;\r\n",
       "    text-align: start;\r\n",
       "}\r\n",
       "details.dni-treeview {\r\n",
       "    padding-left: 1em;\r\n",
       "}\r\n",
       "table td {\r\n",
       "    text-align: start;\r\n",
       "}\r\n",
       "table tr { \r\n",
       "    vertical-align: top; \r\n",
       "    margin: 0em 0px;\r\n",
       "}\r\n",
       "table tr td pre \r\n",
       "{ \r\n",
       "    vertical-align: top !important; \r\n",
       "    margin: 0em 0px !important;\r\n",
       "} \r\n",
       "table th {\r\n",
       "    text-align: start;\r\n",
       "}\r\n",
       "</style>"
      ]
     },
     "metadata": {},
     "output_type": "display_data"
    }
   ],
   "source": [
    "// Part One\n",
    "var input = File.ReadAllLines(\"./input.txt\");\n",
    "CalibrationSum(input)"
   ]
  },
  {
   "cell_type": "code",
   "execution_count": 4,
   "metadata": {
    "dotnet_interactive": {
     "language": "csharp"
    },
    "polyglot_notebook": {
     "kernelName": "csharp"
    },
    "vscode": {
     "languageId": "polyglot-notebook"
    }
   },
   "outputs": [],
   "source": [
    "var validDigits = new Dictionary<string,string> \n",
    "{\n",
    "    { \"one\",\"1\" },\n",
    "    { \"two\",\"2\" },\n",
    "    { \"three\",\"3\" },\n",
    "    { \"four\",\"4\" },\n",
    "    { \"five\",\"5\" },\n",
    "    { \"six\",\"6\" },\n",
    "    { \"seven\",\"7\" },\n",
    "    { \"eight\",\"8\" },\n",
    "    { \"nine\",\"9\" },\n",
    "    { \"1\", \"1\"},\n",
    "    { \"2\", \"2\"},\n",
    "    { \"3\", \"3\"},\n",
    "    { \"4\", \"4\"},\n",
    "    { \"5\", \"5\"},\n",
    "    { \"6\", \"6\"},\n",
    "    { \"7\", \"7\"},\n",
    "    { \"8\", \"8\"},\n",
    "    { \"9\", \"9\"},\n",
    "    { \"0\", \"0\"},\n",
    "};\n",
    "\n",
    "public string ExtractFirst(string data)\n",
    "{\n",
    "    var replacementKey = validDigits\n",
    "        .Select(digit => (data.IndexOf(digit.Key), digit.Key))\n",
    "        .Where(item => item.Item1 >= 0)\n",
    "        .OrderBy(item => item.Item1)\n",
    "        .FirstOrDefault();\n",
    "\n",
    "    return validDigits[replacementKey.Item2];\n",
    "}\n",
    "\n",
    "public string ExtractLast(string data)\n",
    "{\n",
    "    var replacementKey = validDigits\n",
    "        .Select(digit => (data.LastIndexOf(digit.Key), digit.Key))\n",
    "        .Where(item => item.Item1 >= 0)\n",
    "        .OrderByDescending(item => item.Item1)\n",
    "        .FirstOrDefault();\n",
    "\n",
    "    return validDigits[replacementKey.Item2];\n",
    "}"
   ]
  },
  {
   "cell_type": "code",
   "execution_count": 5,
   "metadata": {
    "dotnet_interactive": {
     "language": "csharp"
    },
    "polyglot_notebook": {
     "kernelName": "csharp"
    },
    "vscode": {
     "languageId": "polyglot-notebook"
    }
   },
   "outputs": [
    {
     "data": {
      "text/html": [
       "<div class=\"dni-plaintext\"><pre>54578</pre></div><style>\r\n",
       ".dni-code-hint {\r\n",
       "    font-style: italic;\r\n",
       "    overflow: hidden;\r\n",
       "    white-space: nowrap;\r\n",
       "}\r\n",
       ".dni-treeview {\r\n",
       "    white-space: nowrap;\r\n",
       "}\r\n",
       ".dni-treeview td {\r\n",
       "    vertical-align: top;\r\n",
       "    text-align: start;\r\n",
       "}\r\n",
       "details.dni-treeview {\r\n",
       "    padding-left: 1em;\r\n",
       "}\r\n",
       "table td {\r\n",
       "    text-align: start;\r\n",
       "}\r\n",
       "table tr { \r\n",
       "    vertical-align: top; \r\n",
       "    margin: 0em 0px;\r\n",
       "}\r\n",
       "table tr td pre \r\n",
       "{ \r\n",
       "    vertical-align: top !important; \r\n",
       "    margin: 0em 0px !important;\r\n",
       "} \r\n",
       "table th {\r\n",
       "    text-align: start;\r\n",
       "}\r\n",
       "</style>"
      ]
     },
     "metadata": {},
     "output_type": "display_data"
    }
   ],
   "source": [
    "// Part Two\n",
    "var input = File.ReadAllLines(\"./input.txt\");\n",
    "\n",
    "var cleanedInput = input.Select(line => $\"{ExtractFirst(line)}{ExtractLast(line)}\");\n",
    "cleanedInput.Select(int.Parse).Sum()"
   ]
  }
 ],
 "metadata": {
  "language_info": {
   "name": "python"
  }
 },
 "nbformat": 4,
 "nbformat_minor": 2
}
