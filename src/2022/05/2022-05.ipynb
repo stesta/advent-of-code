{
 "cells": [
  {
   "cell_type": "code",
   "execution_count": 90,
   "metadata": {
    "dotnet_interactive": {
     "language": "fsharp"
    },
    "polyglot_notebook": {
     "language": "fsharp"
    },
    "vscode": {
     "languageId": "dotnet-interactive.fsharp"
    }
   },
   "outputs": [],
   "source": [
    "open System.Collections.Generic\n",
    "\n",
    "// a little bit of cheating because I didn't feel like parsing the stacks\n",
    "let l1 = new List<char>(['B';'Q';'C'])\n",
    "let l2 = new List<char>(['R';'Q';'W';'Z'])\n",
    "let l3 = new List<char>(['B';'M';'R';'L';'V'])\n",
    "let l4 = new List<char>(['C';'Z';'H';'V';'T';'W'])\n",
    "let l5 = new List<char>(['D';'Z';'H';'B';'N';'V';'G'])\n",
    "let l6 = new List<char>(['H';'N';'P';'C';'J';'F';'V';'Q'])\n",
    "let l7 = new List<char>(['D';'G';'T';'R';'W';'Z';'S'])\n",
    "let l8 = new List<char>(['C';'G';'M';'N';'B';'W';'Z';'P'])\n",
    "let l9 = new List<char>(['N';'J';'B';'M';'W';'Q';'F';'P'])\n",
    "let state = [l1; l2; l3; l4; l5; l6; l7; l8; l9]\n",
    "\n",
    "let updateState n a b =\n",
    "    for i in 1..n do\n",
    "        let temp = state.[a-1].[state.[a-1].Count-1]\n",
    "        state.[a-1].RemoveAt(state.[a-1].Count-1)     // pop \n",
    "        state.[b-1].Add(temp)                         // push"
   ]
  },
  {
   "cell_type": "code",
   "execution_count": 92,
   "metadata": {
    "dotnet_interactive": {
     "language": "fsharp"
    },
    "vscode": {
     "languageId": "dotnet-interactive.fsharp"
    }
   },
   "outputs": [],
   "source": [
    "let instructions = System.IO.File.ReadAllLines(\"./input.txt\")\n",
    "\n",
    "let parseInstruction (s:string) = \n",
    "    s.Replace(\"move \", \"\").Replace(\"from \", \"\").Replace(\"to \", \"\")\n",
    "\n",
    "let parsedInstructions = \n",
    "    instructions.[10..] // skipping the initial stack setup\n",
    "        |> Array.map parseInstruction\n",
    "        |> Array.map (fun (s:string) -> s.Trim().Split(' '))"
   ]
  },
  {
   "cell_type": "code",
   "execution_count": 89,
   "metadata": {
    "dotnet_interactive": {
     "language": "fsharp"
    },
    "vscode": {
     "languageId": "dotnet-interactive.fsharp"
    }
   },
   "outputs": [
    {
     "data": {
      "text/plain": [
       "BWNCQRMDB"
      ]
     },
     "metadata": {},
     "output_type": "display_data"
    }
   ],
   "source": [
    "// part one\n",
    "for i in 0..parsedInstructions.Length-1 do \n",
    "     let [| n; a; b |] = parsedInstructions.[i]\n",
    "     updateState (n |> int) (a |> int) (b |> int) \n",
    "\n",
    "state\n",
    "    |> List.map (fun xs -> xs[xs.Count-1])\n",
    "    |> List.map string \n",
    "    |> String.concat \"\""
   ]
  },
  {
   "cell_type": "code",
   "execution_count": 93,
   "metadata": {
    "dotnet_interactive": {
     "language": "fsharp"
    },
    "vscode": {
     "languageId": "dotnet-interactive.fsharp"
    }
   },
   "outputs": [
    {
     "data": {
      "text/plain": [
       "NHWZCBNBF"
      ]
     },
     "metadata": {},
     "output_type": "display_data"
    }
   ],
   "source": [
    "// part two \n",
    "// don't for get to re-run all cells except part one to reset state\n",
    "\n",
    "// not proud of myself here :-/\n",
    "let updateState' n a b =\n",
    "    let mutable temp = new List<char>();\n",
    "    for i in 1..n do\n",
    "        temp.Add(state.[a-1].[state.[a-1].Count-1])\n",
    "        state.[a-1].RemoveAt(state.[a-1].Count-1)     // pop \n",
    "    \n",
    "    temp.Reverse()\n",
    "    state.[b-1].AddRange(temp);\n",
    "\n",
    "for i in 0..parsedInstructions.Length-1 do \n",
    "     let [| n; a; b |] = parsedInstructions.[i]\n",
    "     updateState' (n |> int) (a |> int) (b |> int) \n",
    "\n",
    "state\n",
    "    |> List.map (fun xs -> xs[xs.Count-1])\n",
    "    |> List.map string \n",
    "    |> String.concat \"\" \n"
   ]
  }
 ],
 "metadata": {
  "kernelspec": {
   "display_name": ".NET (F#)",
   "language": "F#",
   "name": ".net-fsharp"
  },
  "language_info": {
   "name": "F#"
  }
 },
 "nbformat": 4,
 "nbformat_minor": 2
}
