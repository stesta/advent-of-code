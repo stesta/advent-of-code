{
 "cells": [
  {
   "cell_type": "code",
   "execution_count": 1,
   "metadata": {
    "dotnet_interactive": {
     "language": "fsharp"
    },
    "polyglot_notebook": {
     "language": "fsharp"
    },
    "vscode": {
     "languageId": "dotnet-interactive.fsharp"
    }
   },
   "outputs": [],
   "source": [
    "let input = System.IO.File.ReadAllLines(\"./input.txt\") |> Array.toList"
   ]
  },
  {
   "cell_type": "code",
   "execution_count": 2,
   "metadata": {
    "dotnet_interactive": {
     "language": "fsharp"
    },
    "vscode": {
     "languageId": "dotnet-interactive.fsharp"
    }
   },
   "outputs": [],
   "source": [
    "// credit: Thomas Patricek\n",
    "// http://www.fssnip.net/nr/title/Split-a-list-using-a-separator\n",
    "let splitBy v list =\n",
    "  let yieldRevNonEmpty list = \n",
    "    if list = [] then []\n",
    "    else [List.rev list]\n",
    "\n",
    "  let rec loop groupSoFar list = seq { \n",
    "    match list with\n",
    "    | [] -> yield! yieldRevNonEmpty groupSoFar\n",
    "    | head::tail when head = v ->\n",
    "        yield! yieldRevNonEmpty groupSoFar\n",
    "        yield! loop [] tail\n",
    "    | head::tail ->\n",
    "        yield! loop (head::groupSoFar) tail }\n",
    "  loop [] list |> List.ofSeq\n",
    "\n",
    "let totals: int list = \n",
    "  input\n",
    "    |> splitBy \"\" \n",
    "    |> List.map (List.map int)\n",
    "    |> List.map List.sum"
   ]
  },
  {
   "cell_type": "code",
   "execution_count": 3,
   "metadata": {
    "dotnet_interactive": {
     "language": "fsharp"
    },
    "vscode": {
     "languageId": "dotnet-interactive.fsharp"
    }
   },
   "outputs": [
    {
     "data": {
      "text/html": [
       "<div class=\"dni-plaintext\">75501</div>"
      ]
     },
     "metadata": {},
     "output_type": "display_data"
    }
   ],
   "source": [
    "// part one\n",
    "totals\n",
    "  |> List.reduce max"
   ]
  },
  {
   "cell_type": "code",
   "execution_count": 4,
   "metadata": {
    "dotnet_interactive": {
     "language": "fsharp"
    },
    "vscode": {
     "languageId": "dotnet-interactive.fsharp"
    }
   },
   "outputs": [
    {
     "data": {
      "text/html": [
       "<div class=\"dni-plaintext\">215594</div>"
      ]
     },
     "metadata": {},
     "output_type": "display_data"
    }
   ],
   "source": [
    "// part two\n",
    "totals\n",
    "  |> List.sortDescending\n",
    "  |> List.take 3 \n",
    "  |> List.sum"
   ]
  }
 ],
 "metadata": {
  "kernelspec": {
   "display_name": ".NET (F#)",
   "language": "F#",
   "name": ".net-fsharp"
  },
  "language_info": {
   "name": "F#"
  }
 },
 "nbformat": 4,
 "nbformat_minor": 2
}
