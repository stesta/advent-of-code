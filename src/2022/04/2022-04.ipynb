{
 "cells": [
  {
   "cell_type": "code",
   "execution_count": 54,
   "metadata": {
    "dotnet_interactive": {
     "language": "fsharp"
    },
    "vscode": {
     "languageId": "dotnet-interactive.fsharp"
    }
   },
   "outputs": [],
   "source": [
    "open System.Collections\n",
    "open System.Linq\n",
    "\n",
    "let input = System.IO.File.ReadAllLines(\"./input.txt\")  "
   ]
  },
  {
   "cell_type": "code",
   "execution_count": 55,
   "metadata": {
    "dotnet_interactive": {
     "language": "fsharp"
    },
    "polyglot_notebook": {
     "language": "fsharp"
    },
    "vscode": {
     "languageId": "dotnet-interactive.fsharp"
    }
   },
   "outputs": [],
   "source": [
    "let parseSections (data:string) = \n",
    "    Array.map (fun (s:string) -> s.Split('-')) (data.Split(','))\n",
    "    |> Array.map (Array.map int)\n",
    "    |> Array.map (fun xs -> [xs.[0]..xs.[1]])\n",
    "\n",
    "let intersections (sections:list<int> array) = (sections.[0]).Intersect(sections.[1])\n",
    "\n",
    "let parsedInput = input |> Array.map parseSections"
   ]
  },
  {
   "cell_type": "code",
   "execution_count": 56,
   "metadata": {
    "dotnet_interactive": {
     "language": "fsharp"
    },
    "vscode": {
     "languageId": "dotnet-interactive.fsharp"
    }
   },
   "outputs": [
    {
     "data": {
      "text/html": [
       "<div class=\"dni-plaintext\">305</div>"
      ]
     },
     "metadata": {},
     "output_type": "display_data"
    }
   ],
   "source": [
    "// part one \n",
    "let intersectionLengths = parsedInput |> Array.map intersections |> Array.map Seq.length\n",
    "let minLengths = \n",
    "    parsedInput\n",
    "    |> Array.map (Array.map (fun (xs:list<int>) -> xs.Length))\n",
    "    |> Array.map (Array.reduce min)\n",
    "\n",
    "Array.zip intersectionLengths minLengths\n",
    "    |> Array.filter (fun (x,y) -> x = y) // full overlap when total intersections is the same as the smaller of the section ranges\n",
    "    |> Array.length\n"
   ]
  },
  {
   "cell_type": "code",
   "execution_count": 57,
   "metadata": {
    "dotnet_interactive": {
     "language": "fsharp"
    },
    "vscode": {
     "languageId": "dotnet-interactive.fsharp"
    }
   },
   "outputs": [
    {
     "data": {
      "text/html": [
       "<div class=\"dni-plaintext\">811</div>"
      ]
     },
     "metadata": {},
     "output_type": "display_data"
    }
   ],
   "source": [
    "// part two \n",
    " intersectionLengths \n",
    "    |> Array.filter (fun len -> len > 0) \n",
    "    |> Array.length"
   ]
  }
 ],
 "metadata": {
  "kernelspec": {
   "display_name": ".NET (F#)",
   "language": "F#",
   "name": ".net-fsharp"
  },
  "language_info": {
   "name": "F#"
  }
 },
 "nbformat": 4,
 "nbformat_minor": 2
}
