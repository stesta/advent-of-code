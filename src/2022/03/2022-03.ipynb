{
 "cells": [
  {
   "cell_type": "code",
   "execution_count": 1,
   "metadata": {
    "dotnet_interactive": {
     "language": "fsharp"
    },
    "polyglot_notebook": {
     "language": "fsharp"
    },
    "vscode": {
     "languageId": "dotnet-interactive.fsharp"
    }
   },
   "outputs": [],
   "source": [
    "open System.Collections\n",
    "open System.Linq\n",
    "\n",
    "let input = System.IO.File.ReadAllLines(\"./input.txt\")"
   ]
  },
  {
   "cell_type": "code",
   "execution_count": 2,
   "metadata": {
    "dotnet_interactive": {
     "language": "fsharp"
    },
    "vscode": {
     "languageId": "dotnet-interactive.fsharp"
    }
   },
   "outputs": [],
   "source": [
    "\n",
    "let flip f x y = f y x\n",
    "let getChunkSize = flip (/) 2 << String.length\n",
    "let values = List.zip (['a'..'z']@['A'..'Z']) ([1..26]@[27..52])\n",
    "let getItemPriority ch = \n",
    "    let (key, value) = List.filter (fun (k,v) -> k = ch) values |> List.head\n",
    "    value"
   ]
  },
  {
   "cell_type": "code",
   "execution_count": 3,
   "metadata": {
    "dotnet_interactive": {
     "language": "fsharp"
    },
    "vscode": {
     "languageId": "dotnet-interactive.fsharp"
    }
   },
   "outputs": [
    {
     "data": {
      "text/html": [
       "<div class=\"dni-plaintext\">8176</div>"
      ]
     },
     "metadata": {},
     "output_type": "display_data"
    }
   ],
   "source": [
    "// part one\n",
    "input\n",
    "    |> Seq.map (fun s -> Seq.chunkBySize (getChunkSize s) s) \n",
    "    |> Seq.map (fun backpack -> (Seq.head backpack).Intersect(Seq.last backpack) |> Seq.head)\n",
    "    |> Seq.map getItemPriority\n",
    "    |> Seq.sum"
   ]
  },
  {
   "cell_type": "code",
   "execution_count": 4,
   "metadata": {
    "dotnet_interactive": {
     "language": "fsharp"
    },
    "vscode": {
     "languageId": "dotnet-interactive.fsharp"
    }
   },
   "outputs": [
    {
     "data": {
      "text/html": [
       "<div class=\"dni-plaintext\">2689</div>"
      ]
     },
     "metadata": {},
     "output_type": "display_data"
    }
   ],
   "source": [
    "// part two\n",
    "input \n",
    "    |> Seq.chunkBySize 3 \n",
    "    |> Seq.map (fun backpack -> (backpack.[0]).Intersect(backpack.[1]).Intersect(backpack.[2]) |> Seq.head)\n",
    "    |> Seq.map getItemPriority\n",
    "    |> Seq.sum "
   ]
  }
 ],
 "metadata": {
  "kernelspec": {
   "display_name": ".NET (F#)",
   "language": "F#",
   "name": ".net-fsharp"
  },
  "language_info": {
   "name": "F#"
  }
 },
 "nbformat": 4,
 "nbformat_minor": 2
}
