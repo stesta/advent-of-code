{
 "cells": [
  {
   "cell_type": "code",
   "execution_count": 6,
   "metadata": {
    "dotnet_interactive": {
     "language": "fsharp"
    },
    "polyglot_notebook": {
     "language": "fsharp"
    },
    "vscode": {
     "languageId": "dotnet-interactive.fsharp"
    }
   },
   "outputs": [],
   "source": [
    "open System.IO\n",
    "\n",
    "let input = File.ReadAllLines(\"./input.txt\")\n",
    "let data = Array.head input |> List.ofSeq"
   ]
  },
  {
   "cell_type": "code",
   "execution_count": 7,
   "metadata": {
    "dotnet_interactive": {
     "language": "fsharp"
    },
    "vscode": {
     "languageId": "dotnet-interactive.fsharp"
    }
   },
   "outputs": [],
   "source": [
    "let allUnique (xs:seq<char>) = \n",
    "    xs |> Seq.groupBy (fun x -> x)\n",
    "       |> Seq.map (fun (k,v) -> Seq.length v) \n",
    "       |> Seq.max = 1 \n",
    "\n",
    "\n",
    "let findMarker (data:list<char>) = \n",
    "    let rec loop input acc n = \n",
    "        if acc then n+4 else\n",
    "        match input with\n",
    "        | w::x::y::zs -> loop ([x;y]@zs) (allUnique [w;x;y;(List.head zs)]) n+1\n",
    "        | _ -> -1 \n",
    "\n",
    "    loop data false -1"
   ]
  },
  {
   "cell_type": "code",
   "execution_count": 8,
   "metadata": {
    "dotnet_interactive": {
     "language": "fsharp"
    },
    "vscode": {
     "languageId": "dotnet-interactive.fsharp"
    }
   },
   "outputs": [
    {
     "data": {
      "text/html": [
       "<div class=\"dni-plaintext\">1343</div>"
      ]
     },
     "metadata": {},
     "output_type": "display_data"
    }
   ],
   "source": [
    "// part one \n",
    "#!log\n",
    "findMarker data"
   ]
  },
  {
   "cell_type": "code",
   "execution_count": 9,
   "metadata": {
    "dotnet_interactive": {
     "language": "fsharp"
    },
    "vscode": {
     "languageId": "dotnet-interactive.fsharp"
    }
   },
   "outputs": [
    {
     "data": {
      "text/html": [
       "<div class=\"dni-plaintext\">2193</div>"
      ]
     },
     "metadata": {},
     "output_type": "display_data"
    }
   ],
   "source": [
    "// part two\n",
    "let findMessage (data:list<char>) = \n",
    "    let rec loop input acc n = \n",
    "        if acc then n+14 else\n",
    "        match input with\n",
    "        | l::m::o::p::q::r::s::t::u::v::w::x::y::zs -> \n",
    "            loop ([m;o;p;q;r;s;t;u;v;w;x;y;]@zs) (allUnique [l;m;o;p;q;r;s;t;u;v;w;x;y;(List.head zs)]) n+1\n",
    "        | _ -> -1 \n",
    "\n",
    "    loop data false -1\n",
    "\n",
    "findMessage data"
   ]
  }
 ],
 "metadata": {
  "kernelspec": {
   "display_name": ".NET (F#)",
   "language": "F#",
   "name": ".net-fsharp"
  },
  "language_info": {
   "name": "F#"
  }
 },
 "nbformat": 4,
 "nbformat_minor": 2
}
