{
 "cells": [
  {
   "cell_type": "code",
   "execution_count": 105,
   "metadata": {
    "dotnet_interactive": {
     "language": "fsharp"
    },
    "polyglot_notebook": {
     "language": "fsharp"
    },
    "vscode": {
     "languageId": "dotnet-interactive.fsharp"
    }
   },
   "outputs": [],
   "source": [
    "open System.IO\n",
    "\n",
    "let input = File.ReadAllLines(\"./input.txt\")\n",
    "\n",
    "let charToIntArray = Array.map (fun s -> (s.ToString() |> int))\n",
    "let grid = \n",
    "    input\n",
    "    |> Array.map (fun s -> s.ToCharArray())\n",
    "    |> Array.map charToIntArray\n",
    "\n",
    "let xs = [1..grid.Length-2]\n",
    "let ys = [1..grid[0].Length-2]"
   ]
  },
  {
   "cell_type": "code",
   "execution_count": 106,
   "metadata": {
    "dotnet_interactive": {
     "language": "fsharp"
    },
    "vscode": {
     "languageId": "dotnet-interactive.fsharp"
    }
   },
   "outputs": [],
   "source": [
    "let visibleUp (xpos:int, ypos:int) = \n",
    "    [|0..xpos-1|]\n",
    "    |> Array.map (fun x -> grid[xpos][ypos] > grid[x][ypos])\n",
    "    |> Array.reduce (fun (a:bool) (b:bool) -> a && b)\n",
    "\n",
    "let visibleDown (xpos:int, ypos:int) = \n",
    "    [|xpos+1..grid.Length-1|] \n",
    "    |> Array.map (fun x -> grid[xpos][ypos] > grid[x][ypos])\n",
    "    |> Array.reduce (fun (a:bool) (b:bool) -> a && b)\n",
    "\n",
    "let visibleLeft (xpos:int, ypos:int) = \n",
    "    [|0..ypos-1|] \n",
    "    |> Array.map (fun y -> grid[xpos][ypos] > grid[xpos][y])\n",
    "    |> Array.reduce (fun (a:bool) (b:bool) -> a && b)\n",
    "\n",
    "let visibleRight (xpos:int, ypos:int) = \n",
    "    [|ypos+1..grid[0].Length-1|] \n",
    "    |> Array.map (fun y -> grid[xpos][ypos] > grid[xpos][y])\n",
    "    |> Array.reduce (fun (a:bool) (b:bool) -> a && b)\n",
    "\n",
    "let visibleAny (xpos:int, ypos: int) = \n",
    "    visibleUp (xpos, ypos) \n",
    " || visibleDown (xpos, ypos) \n",
    " || visibleLeft (xpos, ypos) \n",
    " || visibleRight (xpos, ypos)\n"
   ]
  },
  {
   "cell_type": "code",
   "execution_count": 107,
   "metadata": {
    "dotnet_interactive": {
     "language": "fsharp"
    },
    "vscode": {
     "languageId": "dotnet-interactive.fsharp"
    }
   },
   "outputs": [
    {
     "data": {
      "text/html": [
       "<div class=\"dni-plaintext\">1560</div>"
      ]
     },
     "metadata": {},
     "output_type": "display_data"
    }
   ],
   "source": [
    "// part one\n",
    "let perimiterTotal = (grid.Length * 2) + (grid[0].Length * 2) - 4\n",
    "\n",
    "let innerTotal = \n",
    "    xs \n",
    "    |> List.collect (fun x -> ys |> List.map (fun y -> x, y))\n",
    "    |> List.map visibleAny\n",
    "    |> List.sumBy (fun b -> if b then 1 else 0)\n",
    "\n",
    "perimiterTotal + innerTotal"
   ]
  },
  {
   "cell_type": "code",
   "execution_count": 108,
   "metadata": {
    "dotnet_interactive": {
     "language": "fsharp"
    },
    "vscode": {
     "languageId": "dotnet-interactive.fsharp"
    }
   },
   "outputs": [
    {
     "data": {
      "text/html": [
       "<div class=\"dni-plaintext\">252000</div>"
      ]
     },
     "metadata": {},
     "output_type": "display_data"
    }
   ],
   "source": [
    "let takeUntil predicate (s:seq<_>) = \n",
    "  /// Iterates over the enumerator, yielding elements and\n",
    "  /// stops after an element for which the predicate does not hold\n",
    "  let rec loop (en:IEnumerator<_>) = seq {\n",
    "    if en.MoveNext() then\n",
    "      // Always yield the current, stop if predicate does not hold\n",
    "      yield en.Current\n",
    "      if predicate en.Current then\n",
    "        yield! loop en }\n",
    "\n",
    "  // Get enumerator of the sequence and yield all results\n",
    "  // (making sure that the enumerator gets disposed)\n",
    "  seq { use en = s.GetEnumerator()\n",
    "        yield! loop en }\n",
    "\n",
    "let scenicUp (xpos:int, ypos:int) = \n",
    "    [|xpos-1..-1..0|] \n",
    "    |> Seq.map (fun x -> grid[xpos][ypos] > grid[x][ypos])\n",
    "    |> takeUntil (fun x -> x = true)\n",
    "    |> Seq.length\n",
    "\n",
    "let scenicDown (xpos:int, ypos:int) = \n",
    "    [|xpos+1..grid.Length-1|] \n",
    "    |> Seq.map (fun x -> grid[xpos][ypos] > grid[x][ypos])\n",
    "    |> takeUntil (fun x -> x = true)\n",
    "    |> Seq.length\n",
    "\n",
    "let scenicLeft (xpos:int, ypos:int) = \n",
    "    [|ypos-1..-1..0|] \n",
    "    |> Seq.map (fun y -> grid[xpos][ypos] > grid[xpos][y])\n",
    "    |> takeUntil (fun x -> x = true)\n",
    "    |> Seq.length\n",
    "\n",
    "let scenicRight (xpos:int, ypos:int) = \n",
    "    [|ypos+1..grid[0].Length-1|] \n",
    "    |> Seq.map (fun y -> grid[xpos][ypos] > grid[xpos][y])\n",
    "    |> takeUntil (fun x -> x = true)\n",
    "    |> Seq.length\n",
    "    \n",
    "let scenicScore (xpos:int, ypos:int) = \n",
    "    [|scenicUp (xpos, ypos); scenicDown (xpos, ypos); scenicLeft (xpos, ypos); scenicRight (xpos, ypos)|]\n",
    "    |> Array.fold (fun acc x -> if x = 0 then (acc * 1) else (acc * x)) 1 \n",
    "\n",
    "xs \n",
    "    |> List.collect (fun x -> ys |> List.map (fun y -> x, y))\n",
    "    |> List.map scenicScore\n",
    "    |> List.max"
   ]
  }
 ],
 "metadata": {
  "kernelspec": {
   "display_name": ".NET (F#)",
   "language": "F#",
   "name": ".net-fsharp"
  },
  "language_info": {
   "name": "F#"
  }
 },
 "nbformat": 4,
 "nbformat_minor": 2
}
