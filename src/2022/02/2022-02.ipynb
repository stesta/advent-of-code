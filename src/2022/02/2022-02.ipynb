{
 "cells": [
  {
   "cell_type": "code",
   "execution_count": 5,
   "metadata": {
    "dotnet_interactive": {
     "language": "fsharp"
    },
    "polyglot_notebook": {
     "language": "fsharp"
    },
    "vscode": {
     "languageId": "dotnet-interactive.fsharp"
    }
   },
   "outputs": [],
   "source": [
    "open System.Collections.Generic\n",
    "\n",
    "let input = System.IO.File.ReadAllLines(\"./input.txt\") |> Array.toList"
   ]
  },
  {
   "cell_type": "code",
   "execution_count": 6,
   "metadata": {
    "dotnet_interactive": {
     "language": "fsharp"
    },
    "vscode": {
     "languageId": "dotnet-interactive.fsharp"
    }
   },
   "outputs": [],
   "source": [
    "type Hand = Rock | Paper | Scissors \n",
    "\n",
    "type Results = \n",
    "    | Loss = 0  \n",
    "    | Draw = 3\n",
    "    | Win = 6 "
   ]
  },
  {
   "cell_type": "code",
   "execution_count": 7,
   "metadata": {
    "dotnet_interactive": {
     "language": "fsharp"
    },
    "vscode": {
     "languageId": "dotnet-interactive.fsharp"
    }
   },
   "outputs": [],
   "source": [
    "let parseHand ch = \n",
    "    match ch with \n",
    "    | 'A' -> Rock \n",
    "    | 'B' -> Paper \n",
    "    | 'C' -> Scissors \n",
    "    | 'X' -> Rock \n",
    "    | 'Y' -> Paper\n",
    "    | 'Z' -> Scissors\n",
    "\n",
    "let handScore hand = \n",
    "    match hand with \n",
    "    | Rock      -> 1 \n",
    "    | Paper     -> 2 \n",
    "    | Scissors  -> 3 \n",
    "\n",
    "let scoreRound opp self =\n",
    "  let selfHandScore = handScore self\n",
    "  match (opp, self) with \n",
    "  | (opp, self) when opp = Rock     && self = Paper     -> (int)Results.Win + selfHandScore\n",
    "  | (opp, self) when opp = Paper    && self = Scissors  -> (int)Results.Win + selfHandScore\n",
    "  | (opp, self) when opp = Scissors && self = Rock      -> (int)Results.Win + selfHandScore\n",
    "  | (opp, self) when opp = self                         -> (int)Results.Draw + selfHandScore\n",
    "  | _                                                   -> (int)Results.Loss + selfHandScore"
   ]
  },
  {
   "cell_type": "code",
   "execution_count": 8,
   "metadata": {
    "dotnet_interactive": {
     "language": "fsharp"
    },
    "vscode": {
     "languageId": "dotnet-interactive.fsharp"
    }
   },
   "outputs": [
    {
     "data": {
      "text/html": [
       "<div class=\"dni-plaintext\">10595</div>"
      ]
     },
     "metadata": {},
     "output_type": "display_data"
    }
   ],
   "source": [
    "// part one\n",
    "input\n",
    "  |> List.map (fun s -> scoreRound (parseHand s[0]) (parseHand s[2]))\n",
    "  |> List.sum"
   ]
  },
  {
   "cell_type": "code",
   "execution_count": 9,
   "metadata": {
    "dotnet_interactive": {
     "language": "fsharp"
    },
    "vscode": {
     "languageId": "dotnet-interactive.fsharp"
    }
   },
   "outputs": [
    {
     "data": {
      "text/html": [
       "<div class=\"dni-plaintext\">9541</div>"
      ]
     },
     "metadata": {},
     "output_type": "display_data"
    }
   ],
   "source": [
    "// part two \n",
    "let parseVictory ch = \n",
    "  match ch with \n",
    "  | 'X' -> Results.Loss \n",
    "  | 'Y' -> Results.Draw\n",
    "  | 'Z' -> Results.Win\n",
    "\n",
    "let parseHand' opp self = \n",
    "    let victory = parseVictory self\n",
    "    match (opp, victory) with\n",
    "    | (opp, victory) when victory = Results.Draw -> opp\n",
    "    | (opp, victory) when opp = Rock && victory = Results.Win -> Paper\n",
    "    | (opp, victory) when opp = Paper && victory = Results.Win -> Scissors\n",
    "    | (opp, victory) when opp = Scissors && victory = Results.Win -> Rock\n",
    "    | (opp, victory) when opp = Rock && victory = Results.Loss -> Scissors\n",
    "    | (opp, victory) when opp = Paper && victory = Results.Loss -> Rock\n",
    "    | (opp, victory) when opp = Scissors && victory = Results.Loss -> Paper\n",
    "\n",
    "input\n",
    "  |> List.map (fun s -> scoreRound (parseHand s[0]) (parseHand' (parseHand s[0]) s[2]))\n",
    "  |> List.sum"
   ]
  }
 ],
 "metadata": {
  "kernelspec": {
   "display_name": ".NET (F#)",
   "language": "F#",
   "name": ".net-fsharp"
  },
  "language_info": {
   "name": "F#"
  }
 },
 "nbformat": 4,
 "nbformat_minor": 2
}
