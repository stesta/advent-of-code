{
 "cells": [
  {
   "cell_type": "code",
   "execution_count": 34,
   "metadata": {
    "dotnet_interactive": {
     "language": "fsharp"
    },
    "vscode": {
     "languageId": "dotnet-interactive.fsharp"
    }
   },
   "outputs": [],
   "source": [
    "open System.Collections.Generic\n",
    "open System.IO\n",
    "\n",
    "let input = File.ReadAllLines(\"./input.txt\")"
   ]
  },
  {
   "cell_type": "code",
   "execution_count": 35,
   "metadata": {
    "dotnet_interactive": {
     "language": "fsharp"
    },
    "vscode": {
     "languageId": "dotnet-interactive.fsharp"
    }
   },
   "outputs": [],
   "source": [
    "type ISizeable = \n",
    "    abstract Key: string\n",
    "    abstract Size: int \n",
    "\n",
    "type Command = \n",
    "  | ChangeDirectory of path: string * name: string\n",
    "  | ListDirectory of path: string\n",
    "  | DirectoryDescriptor of path: string * name: string\n",
    "  | FileDescriptor of path: string * size: int * name: string\n",
    "\n",
    "  interface ISizeable with \n",
    "    member this.Key = \n",
    "        match this with \n",
    "        | ChangeDirectory(p,n) -> p \n",
    "        | ListDirectory p -> p \n",
    "        | DirectoryDescriptor(p,n) -> p\n",
    "        | FileDescriptor(p,s,n) -> p \n",
    "\n",
    "    member this.Size = \n",
    "        match this with \n",
    "        | FileDescriptor(p,s,n) -> s \n",
    "        | _ -> 0    "
   ]
  },
  {
   "cell_type": "code",
   "execution_count": 36,
   "metadata": {
    "dotnet_interactive": {
     "language": "fsharp"
    },
    "vscode": {
     "languageId": "dotnet-interactive.fsharp"
    }
   },
   "outputs": [],
   "source": [
    "let getAbsolutePath (pwd: string) (relativePath: string) = \n",
    "    let slugs = pwd.Split(\"/\")\n",
    "    match pwd, relativePath with\n",
    "    | (pwd, relativePath) when relativePath = \"/\" -> \"/\"\n",
    "    | (pwd, relativePath) when pwd = \"/\" -> $\"/{relativePath}\"\n",
    "    | (pwd, relativePath) when relativePath = \"..\" -> \n",
    "        if slugs.Length = 1 \n",
    "        then \"/\" \n",
    "        else String.Join(\"/\", slugs[0..slugs.Length-2])\n",
    "    | (pwd, relativePath) -> $\"{pwd}/{relativePath}\"\n",
    "\n",
    "\n",
    "let parseCommand (pwd: byref<_>) (i: string) : ISizeable = \n",
    "    let words = i.Split(\" \")\n",
    "    match i, words with \n",
    "    | (i, words) when i.StartsWith(\"$ cd\") -> \n",
    "        pwd <- getAbsolutePath pwd words[2]\n",
    "        ChangeDirectory (path = pwd, name = words[2])\n",
    "    | (i, words) when i.StartsWith(\"$ ls\") -> ListDirectory pwd\n",
    "    | (i, words) when i.StartsWith(\"dir\") ->  DirectoryDescriptor (path = pwd, name = words[1])\n",
    "    | (i, words) -> FileDescriptor (path = pwd, size = (words.[0] |> int), name = words[1])"
   ]
  },
  {
   "cell_type": "code",
   "execution_count": 70,
   "metadata": {
    "dotnet_interactive": {
     "language": "fsharp"
    },
    "vscode": {
     "languageId": "dotnet-interactive.fsharp"
    }
   },
   "outputs": [
    {
     "data": {
      "text/html": [
       "<div class=\"dni-plaintext\">1325919</div>"
      ]
     },
     "metadata": {},
     "output_type": "display_data"
    }
   ],
   "source": [
    "// part one\n",
    "let groupedInput = \n",
    "    let mutable pwd = \"/\"\n",
    "    input \n",
    "    |> Array.map (fun i -> parseCommand &pwd i)  \n",
    "    |> Array.groupBy (fun (i:ISizeable) -> i.Key)\n",
    "    |> Array.map (fun (key:string, commands:ISizeable array) -> (key, Array.sum (Array.map (fun (c:ISizeable) -> c.Size) commands)))\n",
    "\n",
    "let getIndirect (path:string) = Array.filter (fun (k:string,_) -> k.Contains(path)) groupedInput\n",
    "\n",
    "let directorySizes = \n",
    "    groupedInput\n",
    "    |> Array.map (fun (key:string, size: int) -> (key, getIndirect key))\n",
    "    |> Array.map (fun (key:string, sizes:(string * int) array) -> (key, Array.sum (Array.map (fun (_,s) -> s) sizes)))\n",
    "    \n",
    "directorySizes\n",
    "    |> Array.filter (fun (_,s) -> s <= 100000)\n",
    "    |> Array.sumBy (fun (_,s) -> s)\n"
   ]
  },
  {
   "cell_type": "code",
   "execution_count": 88,
   "metadata": {
    "dotnet_interactive": {
     "language": "fsharp"
    },
    "vscode": {
     "languageId": "dotnet-interactive.fsharp"
    }
   },
   "outputs": [
    {
     "data": {
      "text/html": [
       "<div class=\"dni-plaintext\">2050735</div>"
      ]
     },
     "metadata": {},
     "output_type": "display_data"
    }
   ],
   "source": [
    "// part two \n",
    "let sortedDirs = Array.sortBy (fun (_,s) -> s) directorySizes\n",
    "let spaceUsed = 70_000_000 - snd (Array.last sortedDirs)\n",
    "let spaceNeeded = 30_000_000 - spaceUsed\n",
    "\n",
    "sortedDirs\n",
    "    |> Array.filter (fun (_,s) -> s >= spaceNeeded)\n",
    "    |> Array.head \n",
    "    |> snd "
   ]
  }
 ],
 "metadata": {
  "kernelspec": {
   "display_name": ".NET (F#)",
   "language": "F#",
   "name": ".net-fsharp"
  },
  "language_info": {
   "name": "F#"
  }
 },
 "nbformat": 4,
 "nbformat_minor": 2
}
