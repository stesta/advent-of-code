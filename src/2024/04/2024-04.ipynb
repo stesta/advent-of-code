{
 "cells": [
  {
   "cell_type": "code",
   "execution_count": null,
   "metadata": {
    "dotnet_interactive": {
     "language": "csharp"
    },
    "polyglot_notebook": {
     "kernelName": "csharp"
    }
   },
   "outputs": [],
   "source": [
    "using System;\n",
    "using System.IO;"
   ]
  },
  {
   "cell_type": "code",
   "execution_count": null,
   "metadata": {
    "dotnet_interactive": {
     "language": "csharp"
    },
    "polyglot_notebook": {
     "kernelName": "csharp"
    }
   },
   "outputs": [],
   "source": [
    "var input = File.ReadAllLines(\"./input.txt\"); \n",
    "char[,] grid = new char[input.Length, input[0].Length]; \n",
    "\n",
    "for (int i = 0; i < input.Length; i++) \n",
    "{ \n",
    "    for (int j = 0; j < input[i].Length; j++) \n",
    "    { \n",
    "        grid[i, j] = input[i][j]; \n",
    "    } \n",
    "}"
   ]
  },
  {
   "cell_type": "code",
   "execution_count": null,
   "metadata": {
    "dotnet_interactive": {
     "language": "csharp"
    },
    "polyglot_notebook": {
     "kernelName": "csharp"
    }
   },
   "outputs": [],
   "source": [
    "// search a single location \n",
    "public int SearchSingleLocation(int row, int col)\n",
    "{\n",
    "     int matches = 0;\n",
    "\n",
    "    // up-left\n",
    "    if (row >= 3 && col >= 3)\n",
    "    {\n",
    "        string found = new string([grid[row,col], grid[row-1,col-1], grid[row-2,col-2], grid[row-3,col-3]]);\n",
    "        if (found == \"XMAS\") matches++; \n",
    "    }\n",
    "\n",
    "    // up\n",
    "    if (row >= 3)\n",
    "    {\n",
    "        string found = new string([grid[row,col], grid[row-1,col], grid[row-2,col], grid[row-3,col]]);\n",
    "        if (found == \"XMAS\") matches++; \n",
    "    }\n",
    "\n",
    "    // up right \n",
    "    if (row >= 3 && col+3 < input[0].Length)\n",
    "    {\n",
    "        string found = new string([grid[row,col], grid[row-1,col+1], grid[row-2,col+2], grid[row-3,col+3]]);\n",
    "        if (found == \"XMAS\") matches++; \n",
    "    }\n",
    "\n",
    "    // right\n",
    "    if (col+3 < input[0].Length)\n",
    "    {\n",
    "        string found = new string([grid[row,col], grid[row,col+1], grid[row,col+2], grid[row,col+3]]);\n",
    "        if (found == \"XMAS\") matches++; \n",
    "    }\n",
    "\n",
    "    // down right\n",
    "    if (row+3 < input.Length && col+3 < input[0].Length)\n",
    "    {\n",
    "        string found = new string([grid[row,col], grid[row+1,col+1], grid[row+2,col+2], grid[row+3,col+3]]);\n",
    "        if (found == \"XMAS\") matches++; \n",
    "    }\n",
    "\n",
    "    // down \n",
    "    if (row+3 < input.Length)\n",
    "    {\n",
    "        string found = new string([grid[row,col], grid[row+1,col], grid[row+2,col], grid[row+3,col]]);\n",
    "        if (found == \"XMAS\") matches++; \n",
    "    }\n",
    "\n",
    "    // down left\n",
    "    if (row+3 < input.Length && col >= 3)\n",
    "    {\n",
    "        string found = new string([grid[row,col], grid[row+1,col-1], grid[row+2,col-2], grid[row+3,col-3]]);\n",
    "        if (found == \"XMAS\") matches++; \n",
    "    }\n",
    "\n",
    "    // left \n",
    "    if (col >= 3)\n",
    "    {\n",
    "        string found = new string([grid[row,col], grid[row,col-1], grid[row,col-2], grid[row,col-3]]);\n",
    "        if (found == \"XMAS\") matches++; \n",
    "    }\n",
    "\n",
    "    return matches;\n",
    "}"
   ]
  },
  {
   "cell_type": "code",
   "execution_count": null,
   "metadata": {},
   "outputs": [
    {
     "data": {
      "text/html": [
       "<div class=\"dni-plaintext\"><pre>2390</pre></div><style>\r\n",
       ".dni-code-hint {\r\n",
       "    font-style: italic;\r\n",
       "    overflow: hidden;\r\n",
       "    white-space: nowrap;\r\n",
       "}\r\n",
       ".dni-treeview {\r\n",
       "    white-space: nowrap;\r\n",
       "}\r\n",
       ".dni-treeview td {\r\n",
       "    vertical-align: top;\r\n",
       "    text-align: start;\r\n",
       "}\r\n",
       "details.dni-treeview {\r\n",
       "    padding-left: 1em;\r\n",
       "}\r\n",
       "table td {\r\n",
       "    text-align: start;\r\n",
       "}\r\n",
       "table tr { \r\n",
       "    vertical-align: top; \r\n",
       "    margin: 0em 0px;\r\n",
       "}\r\n",
       "table tr td pre \r\n",
       "{ \r\n",
       "    vertical-align: top !important; \r\n",
       "    margin: 0em 0px !important;\r\n",
       "} \r\n",
       "table th {\r\n",
       "    text-align: start;\r\n",
       "}\r\n",
       "</style>"
      ]
     },
     "metadata": {},
     "output_type": "display_data"
    }
   ],
   "source": [
    "int accum = 0;\n",
    "\n",
    "for(int i = 0; i < input.Length; i++)\n",
    "{\n",
    "    for (int j = 0; j < input[i].Length; j++) \n",
    "    { \n",
    "        if (grid[i,j] == 'X')\n",
    "            accum += SearchSingleLocation(i, j);\n",
    "    }\n",
    "}\n",
    "\n",
    "accum"
   ]
  },
  {
   "cell_type": "code",
   "execution_count": null,
   "metadata": {},
   "outputs": [],
   "source": [
    "// search a single location \n",
    "public int SearchSingleLocationX(int row, int col)\n",
    "{\n",
    "    string found = new string([grid[row+1,col+1],grid[row,col], grid[row-1,col-1]]);\n",
    "    string found2 = new string([grid[row+1,col-1], grid[row, col], grid[row-1, col+1]]);\n",
    "    \n",
    "    return (found == \"MAS\" || found == \"SAM\") && (found2 == \"MAS\" || found2 == \"SAM\")\n",
    "        ? 1\n",
    "        : 0;\n",
    "}"
   ]
  },
  {
   "cell_type": "code",
   "execution_count": null,
   "metadata": {},
   "outputs": [
    {
     "data": {
      "text/html": [
       "<div class=\"dni-plaintext\"><pre>1809</pre></div><style>\r\n",
       ".dni-code-hint {\r\n",
       "    font-style: italic;\r\n",
       "    overflow: hidden;\r\n",
       "    white-space: nowrap;\r\n",
       "}\r\n",
       ".dni-treeview {\r\n",
       "    white-space: nowrap;\r\n",
       "}\r\n",
       ".dni-treeview td {\r\n",
       "    vertical-align: top;\r\n",
       "    text-align: start;\r\n",
       "}\r\n",
       "details.dni-treeview {\r\n",
       "    padding-left: 1em;\r\n",
       "}\r\n",
       "table td {\r\n",
       "    text-align: start;\r\n",
       "}\r\n",
       "table tr { \r\n",
       "    vertical-align: top; \r\n",
       "    margin: 0em 0px;\r\n",
       "}\r\n",
       "table tr td pre \r\n",
       "{ \r\n",
       "    vertical-align: top !important; \r\n",
       "    margin: 0em 0px !important;\r\n",
       "} \r\n",
       "table th {\r\n",
       "    text-align: start;\r\n",
       "}\r\n",
       "</style>"
      ]
     },
     "metadata": {},
     "output_type": "display_data"
    }
   ],
   "source": [
    "int accum = 0;\n",
    "\n",
    "for(int i = 1; i < input.Length-1; i++)\n",
    "{\n",
    "    for (int j = 1; j < input[i].Length-1; j++) \n",
    "    { \n",
    "        accum += SearchSingleLocationX(i, j);\n",
    "    }\n",
    "}\n",
    "\n",
    "accum"
   ]
  }
 ],
 "metadata": {
  "kernelspec": {
   "display_name": ".NET (C#)",
   "language": "C#",
   "name": ".net-csharp"
  },
  "polyglot_notebook": {
   "kernelInfo": {
    "defaultKernelName": "csharp",
    "items": [
     {
      "aliases": [],
      "languageName": "csharp",
      "name": "csharp"
     }
    ]
   }
  }
 },
 "nbformat": 4,
 "nbformat_minor": 2
}
