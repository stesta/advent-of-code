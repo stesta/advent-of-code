{
 "cells": [
  {
   "cell_type": "code",
   "execution_count": null,
   "metadata": {
    "dotnet_interactive": {
     "language": "csharp"
    },
    "polyglot_notebook": {
     "kernelName": "csharp"
    }
   },
   "outputs": [],
   "source": [
    "using System;\n",
    "using System.IO;"
   ]
  },
  {
   "cell_type": "code",
   "execution_count": null,
   "metadata": {
    "dotnet_interactive": {
     "language": "csharp"
    },
    "polyglot_notebook": {
     "kernelName": "csharp"
    }
   },
   "outputs": [],
   "source": [
    "var rules = File.ReadAllLines(\"./input-rules.txt\").Select(line => line.Split(\"|\"));\n",
    "var pagesCollection = File.ReadAllLines(\"./input-pages.txt\").Select(line => line.Split(\",\"));"
   ]
  },
  {
   "cell_type": "code",
   "execution_count": null,
   "metadata": {
    "dotnet_interactive": {
     "language": "csharp"
    },
    "polyglot_notebook": {
     "kernelName": "csharp"
    }
   },
   "outputs": [],
   "source": [
    "public (bool correct, int middle, string[] ps) CheckPageOrder(string[] pages)\n",
    "{\n",
    "    bool correct = true;\n",
    "    int middle = int.Parse(pages[(int)Math.Floor(pages.Length/2.0d)]);\n",
    "\n",
    "    List<string> ltrFound = new();\n",
    "    for(int i = 0; i < pages.Length; i++)\n",
    "    {\n",
    "        string page = pages[i];\n",
    "        \n",
    "        ltrFound.Add(page);\n",
    "        var pageRules = rules.Where(rule => rule[0] == page).Select(rule => rule[1]);\n",
    "\n",
    "        if (ltrFound.Intersect(pageRules).Any()) \n",
    "            correct = false;\n",
    "    }\n",
    "\n",
    "    List<string> rtlFound = new();\n",
    "    for(int i = pages.Length-1; i >= 0; i--)\n",
    "    {\n",
    "        string page = pages[i];\n",
    "        \n",
    "        rtlFound.Add(page);\n",
    "        var pageRules = rules.Where(rule => rule[1] == page).Select(rule => rule[0]);\n",
    "\n",
    "        if (rtlFound.Intersect(pageRules).Any()) \n",
    "            correct = false;\n",
    "    }\n",
    "\n",
    "    return (correct, middle, pages);\n",
    "}"
   ]
  },
  {
   "cell_type": "code",
   "execution_count": null,
   "metadata": {
    "dotnet_interactive": {
     "language": "csharp"
    },
    "polyglot_notebook": {
     "kernelName": "csharp"
    }
   },
   "outputs": [
    {
     "data": {
      "text/html": [
       "<div class=\"dni-plaintext\"><pre>5091</pre></div><style>\r\n",
       ".dni-code-hint {\r\n",
       "    font-style: italic;\r\n",
       "    overflow: hidden;\r\n",
       "    white-space: nowrap;\r\n",
       "}\r\n",
       ".dni-treeview {\r\n",
       "    white-space: nowrap;\r\n",
       "}\r\n",
       ".dni-treeview td {\r\n",
       "    vertical-align: top;\r\n",
       "    text-align: start;\r\n",
       "}\r\n",
       "details.dni-treeview {\r\n",
       "    padding-left: 1em;\r\n",
       "}\r\n",
       "table td {\r\n",
       "    text-align: start;\r\n",
       "}\r\n",
       "table tr { \r\n",
       "    vertical-align: top; \r\n",
       "    margin: 0em 0px;\r\n",
       "}\r\n",
       "table tr td pre \r\n",
       "{ \r\n",
       "    vertical-align: top !important; \r\n",
       "    margin: 0em 0px !important;\r\n",
       "} \r\n",
       "table th {\r\n",
       "    text-align: start;\r\n",
       "}\r\n",
       "</style>"
      ]
     },
     "metadata": {},
     "output_type": "display_data"
    }
   ],
   "source": [
    "pagesCollection\n",
    "    .Select(pages => CheckPageOrder(pages))\n",
    "    .Where(result => result.correct)\n",
    "    .Select(result => result.middle)\n",
    "    .Sum()"
   ]
  },
  {
   "cell_type": "code",
   "execution_count": null,
   "metadata": {
    "dotnet_interactive": {
     "language": "csharp"
    },
    "polyglot_notebook": {
     "kernelName": "csharp"
    }
   },
   "outputs": [],
   "source": [
    "// super inefficient, could improve by using a hash map to grab the index to move to \n",
    "// instead of moving one place at a time\n",
    "public string[] CorrectOrder(string[] pages)\n",
    "{\n",
    "    List<string> ltrFound = new();\n",
    "    for(int i = 0; i < pages.Length; i++)\n",
    "    {\n",
    "        string page = pages[i];\n",
    "\n",
    "        ltrFound.Add(page);\n",
    "        var pageRules = rules.Where(rule => rule[0] == page).Select(rule => rule[1]);\n",
    "\n",
    "        if (ltrFound.Intersect(pageRules).Any()) \n",
    "        {\n",
    "            string temp = pages[i];\n",
    "            pages[i] = pages[i-1];\n",
    "            pages[i-1] = temp;\n",
    "            CorrectOrder(pages);\n",
    "        }\n",
    "    }\n",
    "\n",
    "    List<string> rtlFound = new();\n",
    "    for(int i = pages.Length-1; i >= 0; i--)\n",
    "    {\n",
    "        string page = pages[i];\n",
    "\n",
    "        rtlFound.Add(page);\n",
    "        var pageRules = rules.Where(rule => rule[1] == page).Select(rule => rule[0]);\n",
    "        \n",
    "        if (rtlFound.Intersect(pageRules).Any()) \n",
    "        {\n",
    "            string temp = pages[i];\n",
    "            pages[i] = pages[i+1];\n",
    "            pages[i+1] = temp;\n",
    "            CorrectOrder(pages);\n",
    "        }\n",
    "    }\n",
    "\n",
    "    return pages;\n",
    "}"
   ]
  },
  {
   "cell_type": "code",
   "execution_count": null,
   "metadata": {
    "dotnet_interactive": {
     "language": "csharp"
    },
    "polyglot_notebook": {
     "kernelName": "csharp"
    }
   },
   "outputs": [
    {
     "data": {
      "text/html": [
       "<div class=\"dni-plaintext\"><pre>4681</pre></div><style>\r\n",
       ".dni-code-hint {\r\n",
       "    font-style: italic;\r\n",
       "    overflow: hidden;\r\n",
       "    white-space: nowrap;\r\n",
       "}\r\n",
       ".dni-treeview {\r\n",
       "    white-space: nowrap;\r\n",
       "}\r\n",
       ".dni-treeview td {\r\n",
       "    vertical-align: top;\r\n",
       "    text-align: start;\r\n",
       "}\r\n",
       "details.dni-treeview {\r\n",
       "    padding-left: 1em;\r\n",
       "}\r\n",
       "table td {\r\n",
       "    text-align: start;\r\n",
       "}\r\n",
       "table tr { \r\n",
       "    vertical-align: top; \r\n",
       "    margin: 0em 0px;\r\n",
       "}\r\n",
       "table tr td pre \r\n",
       "{ \r\n",
       "    vertical-align: top !important; \r\n",
       "    margin: 0em 0px !important;\r\n",
       "} \r\n",
       "table th {\r\n",
       "    text-align: start;\r\n",
       "}\r\n",
       "</style>"
      ]
     },
     "metadata": {},
     "output_type": "display_data"
    }
   ],
   "source": [
    "pagesCollection\n",
    "    // get incorrect and re-order\n",
    "    .Select(pages => CheckPageOrder(pages))\n",
    "    .Where(result => !result.correct)\n",
    "    .Select(result => CorrectOrder(result.ps))\n",
    "    // same as before\n",
    "    .Select(pages => CheckPageOrder(pages))\n",
    "    .Where(result => result.correct)\n",
    "    .Select(result => result.middle)\n",
    "    .Sum()"
   ]
  }
 ],
 "metadata": {
  "kernelspec": {
   "display_name": ".NET (C#)",
   "language": "C#",
   "name": ".net-csharp"
  },
  "polyglot_notebook": {
   "kernelInfo": {
    "defaultKernelName": "csharp",
    "items": [
     {
      "aliases": [],
      "languageName": "csharp",
      "name": "csharp"
     }
    ]
   }
  }
 },
 "nbformat": 4,
 "nbformat_minor": 2
}
